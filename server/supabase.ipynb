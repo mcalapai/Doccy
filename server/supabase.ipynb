{
 "cells": [
  {
   "cell_type": "code",
   "execution_count": 6,
   "metadata": {},
   "outputs": [
    {
     "data": {
      "text/plain": [
       "True"
      ]
     },
     "execution_count": 6,
     "metadata": {},
     "output_type": "execute_result"
    }
   ],
   "source": [
    "from supabase import create_client, Client\n",
    "import os\n",
    "\n",
    "from dotenv import load_dotenv\n",
    "load_dotenv()"
   ]
  },
  {
   "cell_type": "code",
   "execution_count": 7,
   "metadata": {},
   "outputs": [],
   "source": [
    "supabase_url = os.environ.get('SUPABASE_URL')\n",
    "supabase_key = os.environ.get('SUPABASE_KEY')\n",
    "    \n",
    "supabase_client: Client = create_client(supabase_url, supabase_key)"
   ]
  },
  {
   "cell_type": "code",
   "execution_count": 13,
   "metadata": {},
   "outputs": [
    {
     "name": "stderr",
     "output_type": "stream",
     "text": [
      "2023-12-24 13:01:55,044:INFO - HTTP Request: POST https://mxquzcwaqnrdcnlobiao.supabase.co/storage/v1/object/list/chats \"HTTP/1.1 200 OK\"\n"
     ]
    },
    {
     "name": "stdout",
     "output_type": "stream",
     "text": [
      "Response:  [{'name': '.placeholder', 'id': 'a1cfc0b2-cc8e-4dc0-ae4d-1c17781d0cca', 'updated_at': '2023-12-23T23:14:18.414Z', 'created_at': '2023-12-23T23:14:18.414Z', 'last_accessed_at': '2023-12-23T23:14:18.414Z', 'metadata': {'eTag': '\"d41d8cd98f00b204e9800998ecf8427e\"', 'size': 0, 'mimetype': 'application/octet-stream', 'cacheControl': 'no-cache', 'lastModified': '2023-12-23T23:14:19.000Z', 'contentLength': 0, 'httpStatusCode': 200}}, {'name': '69c40043-44da-fa41-f0da-e12067b6fcdb.pkl', 'id': '3838d24d-ffc0-47fc-8586-4e4865b5591f', 'updated_at': '2023-12-24T02:01:37.905Z', 'created_at': '2023-12-24T02:01:37.905Z', 'last_accessed_at': '2023-12-24T02:01:37.905Z', 'metadata': {'eTag': '\"adbe679f309a343fb3a6727cf1d265ea\"', 'size': 696, 'mimetype': 'application/octet-stream', 'cacheControl': 'no-cache', 'lastModified': '2023-12-24T02:01:38.000Z', 'contentLength': 696, 'httpStatusCode': 200}}, {'name': 'None.pkl', 'id': 'd513b41a-4633-4f93-a0e5-cc5360441745', 'updated_at': '2023-12-23T23:14:18.587Z', 'created_at': '2023-12-23T23:14:18.587Z', 'last_accessed_at': '2023-12-23T23:14:18.587Z', 'metadata': {'eTag': '\"c657f0a43aff0abadd52afb57a2f8ba8\"', 'size': 1024, 'mimetype': 'application/octet-stream', 'cacheControl': 'no-cache', 'lastModified': '2023-12-23T23:14:19.000Z', 'contentLength': 1024, 'httpStatusCode': 200}}]\n",
      "Response length:  3\n",
      "Response type:  <class 'list'>\n"
     ]
    }
   ],
   "source": [
    "bucket_name = \"chats\"\n",
    "\n",
    "response = supabase_client.storage.from_(bucket_name).list(\"763dacfd-0103-4822-ac24-3671aef88133/\")\n",
    "print(\"Response: \", response)\n",
    "print(\"Response length: \", len(response))\n",
    "print(\"Response type: \", type(response))"
   ]
  },
  {
   "cell_type": "code",
   "execution_count": 16,
   "metadata": {},
   "outputs": [
    {
     "name": "stderr",
     "output_type": "stream",
     "text": [
      "2023-12-24 16:48:08,271:INFO - HTTP Request: GET https://mxquzcwaqnrdcnlobiao.supabase.co/rest/v1/chats?select=%2A \"HTTP/1.1 200 OK\"\n"
     ]
    },
    {
     "data": {
      "text/plain": [
       "[]"
      ]
     },
     "execution_count": 16,
     "metadata": {},
     "output_type": "execute_result"
    }
   ],
   "source": [
    "response = supabase_client.table('chats').select(\"*\").execute()\n",
    "response.data\n",
    "any(data['file_id'] == session_id for data in response.data)"
   ]
  },
  {
   "cell_type": "code",
   "execution_count": 29,
   "metadata": {},
   "outputs": [
    {
     "ename": "TypeError",
     "evalue": "BaseFilterRequestBuilder.eq() missing 1 required positional argument: 'value'",
     "output_type": "error",
     "traceback": [
      "\u001b[0;31m---------------------------------------------------------------------------\u001b[0m",
      "\u001b[0;31mTypeError\u001b[0m                                 Traceback (most recent call last)",
      "\u001b[1;32m/Users/matthewcalapai/Documents/GitHub/atr-portal-testing/Doccy/server/supabase.ipynb Cell 5\u001b[0m line \u001b[0;36m1\n\u001b[0;32m----> <a href='vscode-notebook-cell:/Users/matthewcalapai/Documents/GitHub/atr-portal-testing/Doccy/server/supabase.ipynb#W5sZmlsZQ%3D%3D?line=0'>1</a>\u001b[0m all_chats \u001b[39m=\u001b[39m supabase_client\u001b[39m.\u001b[39;49mtable(\u001b[39m'\u001b[39;49m\u001b[39mchats\u001b[39;49m\u001b[39m'\u001b[39;49m)\u001b[39m.\u001b[39;49mselect(\u001b[39m\"\u001b[39;49m\u001b[39mid(*)\u001b[39;49m\u001b[39m\"\u001b[39;49m)\u001b[39m.\u001b[39;49meq(\u001b[39m\"\u001b[39;49m\u001b[39muserid\u001b[39;49m\u001b[39m\"\u001b[39;49m)\u001b[39m.\u001b[39mexecute()\n\u001b[1;32m      <a href='vscode-notebook-cell:/Users/matthewcalapai/Documents/GitHub/atr-portal-testing/Doccy/server/supabase.ipynb#W5sZmlsZQ%3D%3D?line=2'>3</a>\u001b[0m all_chats\u001b[39m.\u001b[39mdata\n",
      "\u001b[0;31mTypeError\u001b[0m: BaseFilterRequestBuilder.eq() missing 1 required positional argument: 'value'"
     ]
    }
   ],
   "source": [
    "all_chats = supabase_client.table('chats').select(\"id(*)\").eq(\"id\", \"hello\").execute()\n",
    "\n",
    "all_chats.data"
   ]
  },
  {
   "cell_type": "code",
   "execution_count": null,
   "metadata": {},
   "outputs": [],
   "source": []
  },
  {
   "cell_type": "code",
   "execution_count": null,
   "metadata": {},
   "outputs": [],
   "source": []
  },
  {
   "cell_type": "code",
   "execution_count": null,
   "metadata": {},
   "outputs": [],
   "source": []
  }
 ],
 "metadata": {
  "kernelspec": {
   "display_name": "base",
   "language": "python",
   "name": "python3"
  },
  "language_info": {
   "codemirror_mode": {
    "name": "ipython",
    "version": 3
   },
   "file_extension": ".py",
   "mimetype": "text/x-python",
   "name": "python",
   "nbconvert_exporter": "python",
   "pygments_lexer": "ipython3",
   "version": "3.11.5"
  }
 },
 "nbformat": 4,
 "nbformat_minor": 2
}
