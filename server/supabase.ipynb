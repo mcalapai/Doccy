{
 "cells": [
  {
   "cell_type": "code",
   "execution_count": 6,
   "metadata": {},
   "outputs": [
    {
     "data": {
      "text/plain": [
       "True"
      ]
     },
     "execution_count": 6,
     "metadata": {},
     "output_type": "execute_result"
    }
   ],
   "source": [
    "from supabase import create_client, Client\n",
    "import os\n",
    "\n",
    "from dotenv import load_dotenv\n",
    "load_dotenv()"
   ]
  },
  {
   "cell_type": "code",
   "execution_count": 7,
   "metadata": {},
   "outputs": [],
   "source": [
    "supabase_url = os.environ.get('SUPABASE_URL')\n",
    "supabase_key = os.environ.get('SUPABASE_KEY')\n",
    "    \n",
    "supabase_client: Client = create_client(supabase_url, supabase_key)"
   ]
  },
  {
   "cell_type": "code",
   "execution_count": 10,
   "metadata": {},
   "outputs": [
    {
     "name": "stderr",
     "output_type": "stream",
     "text": [
      "2023-12-24 13:01:05,417:INFO - HTTP Request: POST https://mxquzcwaqnrdcnlobiao.supabase.co/storage/v1/object/list/chats \"HTTP/1.1 200 OK\"\n"
     ]
    },
    {
     "name": "stdout",
     "output_type": "stream",
     "text": [
      "Response:  {'name': 'None.pkl', 'id': 'd513b41a-4633-4f93-a0e5-cc5360441745', 'updated_at': '2023-12-23T23:14:18.587Z', 'created_at': '2023-12-23T23:14:18.587Z', 'last_accessed_at': '2023-12-23T23:14:18.587Z', 'metadata': {'eTag': '\"c657f0a43aff0abadd52afb57a2f8ba8\"', 'size': 1024, 'mimetype': 'application/octet-stream', 'cacheControl': 'no-cache', 'lastModified': '2023-12-23T23:14:19.000Z', 'contentLength': 1024, 'httpStatusCode': 200}}\n",
      "Response length:  2\n",
      "Response type:  <class 'list'>\n"
     ]
    }
   ],
   "source": [
    "bucket_name = \"chats\"\n",
    "\n",
    "response = supabase_client.storage.from_(bucket_name).list(\"763dacfd-0103-4822-ac24-3671aef88133\")\n",
    "print(\"Response: \", response)\n",
    "print(\"Response length: \", len(response))\n",
    "print(\"Response type: \", type(response))"
   ]
  },
  {
   "cell_type": "code",
   "execution_count": null,
   "metadata": {},
   "outputs": [],
   "source": []
  }
 ],
 "metadata": {
  "kernelspec": {
   "display_name": "base",
   "language": "python",
   "name": "python3"
  },
  "language_info": {
   "codemirror_mode": {
    "name": "ipython",
    "version": 3
   },
   "file_extension": ".py",
   "mimetype": "text/x-python",
   "name": "python",
   "nbconvert_exporter": "python",
   "pygments_lexer": "ipython3",
   "version": "3.11.5"
  }
 },
 "nbformat": 4,
 "nbformat_minor": 2
}
