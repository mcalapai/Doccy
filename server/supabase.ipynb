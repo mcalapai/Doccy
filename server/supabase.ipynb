{
 "cells": [
  {
   "cell_type": "code",
   "execution_count": 6,
   "metadata": {},
   "outputs": [
    {
     "data": {
      "text/plain": [
       "True"
      ]
     },
     "execution_count": 6,
     "metadata": {},
     "output_type": "execute_result"
    }
   ],
   "source": [
    "from supabase import create_client, Client\n",
    "import os\n",
    "\n",
    "from dotenv import load_dotenv\n",
    "load_dotenv()"
   ]
  },
  {
   "cell_type": "code",
   "execution_count": 7,
   "metadata": {},
   "outputs": [],
   "source": [
    "supabase_url = os.environ.get('SUPABASE_URL')\n",
    "supabase_key = os.environ.get('SUPABASE_KEY')\n",
    "    \n",
    "supabase_client: Client = create_client(supabase_url, supabase_key)"
   ]
  },
  {
   "cell_type": "code",
   "execution_count": 8,
   "metadata": {},
   "outputs": [
    {
     "name": "stderr",
     "output_type": "stream",
     "text": [
      "2023-12-25 19:39:23,960:INFO - HTTP Request: POST https://mxquzcwaqnrdcnlobiao.supabase.co/storage/v1/object/list/chats \"HTTP/1.1 200 OK\"\n"
     ]
    },
    {
     "name": "stdout",
     "output_type": "stream",
     "text": [
      "Response:  [{'name': '.placeholder', 'id': 'a1cfc0b2-cc8e-4dc0-ae4d-1c17781d0cca', 'updated_at': '2023-12-23T23:14:18.414Z', 'created_at': '2023-12-23T23:14:18.414Z', 'last_accessed_at': '2023-12-23T23:14:18.414Z', 'metadata': {'eTag': '\"d41d8cd98f00b204e9800998ecf8427e\"', 'size': 0, 'mimetype': 'application/octet-stream', 'cacheControl': 'no-cache', 'lastModified': '2023-12-23T23:14:19.000Z', 'contentLength': 0, 'httpStatusCode': 200}}, {'name': '06f9cc46-ba0e-ec81-e069-6db3f6a77549.pkl', 'id': 'ddc204c4-f9bf-4f66-9bf8-267f966b549e', 'updated_at': '2023-12-24T23:53:22.679Z', 'created_at': '2023-12-24T23:53:22.679Z', 'last_accessed_at': '2023-12-24T23:53:22.679Z', 'metadata': {'eTag': '\"9bd44d77efab5c4b72328ce5fd626a6b\"', 'size': 1537, 'mimetype': 'application/octet-stream', 'cacheControl': 'no-cache', 'lastModified': '2023-12-24T23:53:23.000Z', 'contentLength': 1537, 'httpStatusCode': 200}}, {'name': '1670a72c-73cc-8e8e-f3b1-7ee798e23ac3.pkl', 'id': 'ff50621a-aa38-43a3-a72f-5f41c93072d7', 'updated_at': '2023-12-24T21:45:15.381Z', 'created_at': '2023-12-24T21:45:15.381Z', 'last_accessed_at': '2023-12-24T21:45:15.381Z', 'metadata': {'eTag': '\"2ef21e172f9b5ee7b741f8acfa653bd0\"', 'size': 1577, 'mimetype': 'application/octet-stream', 'cacheControl': 'no-cache', 'lastModified': '2023-12-24T21:45:16.000Z', 'contentLength': 1577, 'httpStatusCode': 200}}, {'name': '1caa11a1-6a93-006d-3f2a-843fd9fe15ae.pkl', 'id': 'b22b456c-d246-46b7-9e99-4261e0327a9c', 'updated_at': '2023-12-25T03:53:33.277Z', 'created_at': '2023-12-25T03:53:33.277Z', 'last_accessed_at': '2023-12-25T03:53:33.277Z', 'metadata': {'eTag': '\"b3e9dc79d371dad293acc181173e5e0e\"', 'size': 2145, 'mimetype': 'application/octet-stream', 'cacheControl': 'no-cache', 'lastModified': '2023-12-25T03:53:34.000Z', 'contentLength': 2145, 'httpStatusCode': 200}}, {'name': '23b11ff5-ee0e-39ee-55bb-93a7a74f8e58.pkl', 'id': '17dd55dc-4fa9-47d3-8b6f-45feff345055', 'updated_at': '2023-12-24T03:17:19.361Z', 'created_at': '2023-12-24T03:17:19.361Z', 'last_accessed_at': '2023-12-24T03:17:19.361Z', 'metadata': {'eTag': '\"82a153efb0927e3ab8bd7c1109199a91\"', 'size': 1440, 'mimetype': 'application/octet-stream', 'cacheControl': 'no-cache', 'lastModified': '2023-12-24T03:17:20.000Z', 'contentLength': 1440, 'httpStatusCode': 200}}, {'name': '24eb414d-9c48-ba8c-f865-c8c8b0a9564b.pkl', 'id': '8f524001-59ca-48e0-a94f-dc49e04ac260', 'updated_at': '2023-12-24T03:23:57.343Z', 'created_at': '2023-12-24T03:23:57.343Z', 'last_accessed_at': '2023-12-24T03:23:57.343Z', 'metadata': {'eTag': '\"47373765ab6db1c6be8657884215787c\"', 'size': 1206, 'mimetype': 'application/octet-stream', 'cacheControl': 'no-cache', 'lastModified': '2023-12-24T03:23:58.000Z', 'contentLength': 1206, 'httpStatusCode': 200}}, {'name': '3608bf19-2be9-9c18-4831-6b7f0bf067d3.pkl', 'id': '7b22cc30-3dba-474a-9de1-ca2bef687272', 'updated_at': '2023-12-24T06:52:41.364Z', 'created_at': '2023-12-24T06:52:41.364Z', 'last_accessed_at': '2023-12-24T06:52:41.364Z', 'metadata': {'eTag': '\"53f1cb61cc1bf1b95ccb5d9b066f2ea6\"', 'size': 699, 'mimetype': 'application/octet-stream', 'cacheControl': 'no-cache', 'lastModified': '2023-12-24T06:52:42.000Z', 'contentLength': 699, 'httpStatusCode': 200}}, {'name': '43d3ae7f-0451-aec7-c000-c6d7ccdad4ca.pkl', 'id': 'c07b1a23-e260-42a7-96b3-4d1349a93bbb', 'updated_at': '2023-12-24T22:11:18.127Z', 'created_at': '2023-12-24T22:11:18.127Z', 'last_accessed_at': '2023-12-24T22:11:18.127Z', 'metadata': {'eTag': '\"5413107698af26edc5c47b5bd1f07fc7\"', 'size': 1774, 'mimetype': 'application/octet-stream', 'cacheControl': 'no-cache', 'lastModified': '2023-12-24T22:11:19.000Z', 'contentLength': 1774, 'httpStatusCode': 200}}, {'name': '450aad88-60f2-5d87-d1a5-9ae1ddea0ecc.pkl', 'id': 'a725578a-9559-47ac-a28e-64c7fd942772', 'updated_at': '2023-12-24T21:33:15.249Z', 'created_at': '2023-12-24T21:33:15.249Z', 'last_accessed_at': '2023-12-24T21:33:15.249Z', 'metadata': {'eTag': '\"ec9c1a7d3c4968b9de8497fdc26c1786\"', 'size': 2003, 'mimetype': 'application/octet-stream', 'cacheControl': 'no-cache', 'lastModified': '2023-12-24T21:33:16.000Z', 'contentLength': 2003, 'httpStatusCode': 200}}, {'name': '46933b59-b864-851b-db86-d683d25de096.pkl', 'id': '86e692f2-873f-44a6-954a-c5d6d20312f3', 'updated_at': '2023-12-24T04:14:24.093Z', 'created_at': '2023-12-24T04:14:24.093Z', 'last_accessed_at': '2023-12-24T04:14:24.093Z', 'metadata': {'eTag': '\"e93b123215448a66a9bc3134ef4280b6\"', 'size': 1446, 'mimetype': 'application/octet-stream', 'cacheControl': 'no-cache', 'lastModified': '2023-12-24T04:14:25.000Z', 'contentLength': 1446, 'httpStatusCode': 200}}, {'name': '4de85f36-6f5d-57ad-87a5-d5246dff5ae9.pkl', 'id': '22e2e16e-2da2-4533-9da6-2ebfc16293f9', 'updated_at': '2023-12-24T20:59:10.104Z', 'created_at': '2023-12-24T20:59:10.104Z', 'last_accessed_at': '2023-12-24T20:59:10.104Z', 'metadata': {'eTag': '\"8d3162136b4cb82321341c83347f786e\"', 'size': 1360, 'mimetype': 'application/octet-stream', 'cacheControl': 'no-cache', 'lastModified': '2023-12-24T20:59:11.000Z', 'contentLength': 1360, 'httpStatusCode': 200}}, {'name': '5a09e29c-b598-60cc-9384-9227d98181e4.pkl', 'id': 'db3691b5-3b0b-4938-98a3-dfdc78fe7a13', 'updated_at': '2023-12-24T22:17:12.190Z', 'created_at': '2023-12-24T22:17:12.190Z', 'last_accessed_at': '2023-12-24T22:17:12.190Z', 'metadata': {'eTag': '\"4b4bffe4f2fe258d0a22d08a010071b4\"', 'size': 1646, 'mimetype': 'application/octet-stream', 'cacheControl': 'no-cache', 'lastModified': '2023-12-24T22:17:13.000Z', 'contentLength': 1646, 'httpStatusCode': 200}}, {'name': '5c53f583-7918-5845-ec9b-c273b6d747d1.pkl', 'id': 'fabf28f0-27e3-4fb1-82fd-8ddae44f08fc', 'updated_at': '2023-12-24T04:06:51.761Z', 'created_at': '2023-12-24T04:06:51.761Z', 'last_accessed_at': '2023-12-24T04:06:51.761Z', 'metadata': {'eTag': '\"4e10f7491a79ff7901b3d6604dcfe254\"', 'size': 1242, 'mimetype': 'application/octet-stream', 'cacheControl': 'no-cache', 'lastModified': '2023-12-24T04:06:52.000Z', 'contentLength': 1242, 'httpStatusCode': 200}}, {'name': '5d48f623-d743-7878-06b2-600c44c4cea1.pkl', 'id': 'c7833594-e354-40df-aa2b-a2dedc51f2ec', 'updated_at': '2023-12-24T03:48:30.563Z', 'created_at': '2023-12-24T03:48:30.563Z', 'last_accessed_at': '2023-12-24T03:48:30.563Z', 'metadata': {'eTag': '\"477f107c34933abffc6ca72e3d186dde\"', 'size': 698, 'mimetype': 'application/octet-stream', 'cacheControl': 'no-cache', 'lastModified': '2023-12-24T03:48:31.000Z', 'contentLength': 698, 'httpStatusCode': 200}}, {'name': '5df414f1-84f4-11a7-9a53-c4d4a6553616.pkl', 'id': 'ad696fed-ac67-4ba9-9aca-24eef810e60c', 'updated_at': '2023-12-24T22:16:19.400Z', 'created_at': '2023-12-24T22:16:19.400Z', 'last_accessed_at': '2023-12-24T22:16:19.400Z', 'metadata': {'eTag': '\"73e40e13e61a766faa6856492a87fc5a\"', 'size': 2189, 'mimetype': 'application/octet-stream', 'cacheControl': 'no-cache', 'lastModified': '2023-12-24T22:16:20.000Z', 'contentLength': 2189, 'httpStatusCode': 200}}, {'name': '5eb05716-f504-4328-fb32-944950c098d5.pkl', 'id': '6fe2ff14-e341-407c-b9de-1598c1003d86', 'updated_at': '2023-12-24T02:04:41.149Z', 'created_at': '2023-12-24T02:04:41.149Z', 'last_accessed_at': '2023-12-24T02:04:41.149Z', 'metadata': {'eTag': '\"bfcb156791d4ae1b922f9bd388196e78\"', 'size': 699, 'mimetype': 'application/octet-stream', 'cacheControl': 'no-cache', 'lastModified': '2023-12-24T02:04:42.000Z', 'contentLength': 699, 'httpStatusCode': 200}}, {'name': '61154a23-5113-c026-ede5-99903b79189e.pkl', 'id': '116c5737-0c7e-49d8-9c0a-16944b6c191f', 'updated_at': '2023-12-24T19:25:12.202Z', 'created_at': '2023-12-24T19:25:12.202Z', 'last_accessed_at': '2023-12-24T19:25:12.202Z', 'metadata': {'eTag': '\"1f7e1f089c2c103030bc8ea61ac09c84\"', 'size': 1503, 'mimetype': 'application/octet-stream', 'cacheControl': 'no-cache', 'lastModified': '2023-12-24T19:25:13.000Z', 'contentLength': 1503, 'httpStatusCode': 200}}, {'name': '63950ed3-9f64-41d8-27a6-0add6c6e43c2.pkl', 'id': 'e1b6c2a7-7ff2-443d-be09-62c29f891faa', 'updated_at': '2023-12-24T04:02:58.442Z', 'created_at': '2023-12-24T04:02:58.442Z', 'last_accessed_at': '2023-12-24T04:02:58.442Z', 'metadata': {'eTag': '\"518709f863986ae5a866cae429d19473\"', 'size': 1306, 'mimetype': 'application/octet-stream', 'cacheControl': 'no-cache', 'lastModified': '2023-12-24T04:02:59.000Z', 'contentLength': 1306, 'httpStatusCode': 200}}, {'name': '69c40043-44da-fa41-f0da-e12067b6fcdb.pkl', 'id': '3838d24d-ffc0-47fc-8586-4e4865b5591f', 'updated_at': '2023-12-24T02:01:37.905Z', 'created_at': '2023-12-24T02:01:37.905Z', 'last_accessed_at': '2023-12-24T02:01:37.905Z', 'metadata': {'eTag': '\"adbe679f309a343fb3a6727cf1d265ea\"', 'size': 696, 'mimetype': 'application/octet-stream', 'cacheControl': 'no-cache', 'lastModified': '2023-12-24T02:01:38.000Z', 'contentLength': 696, 'httpStatusCode': 200}}, {'name': '6cf178e5-e2f0-73ca-6414-3b59db24624d.pkl', 'id': 'ca643f1a-0045-413e-9822-e1a4ebc56e3d', 'updated_at': '2023-12-24T20:55:47.091Z', 'created_at': '2023-12-24T20:55:47.091Z', 'last_accessed_at': '2023-12-24T20:55:47.091Z', 'metadata': {'eTag': '\"3ecf117f2698d82a6c6f510723b60dd7\"', 'size': 1423, 'mimetype': 'application/octet-stream', 'cacheControl': 'no-cache', 'lastModified': '2023-12-24T20:55:48.000Z', 'contentLength': 1423, 'httpStatusCode': 200}}, {'name': '74c220d2-84c1-c923-7644-267477f41dad.pkl', 'id': 'bc09485d-8b7e-492d-9c73-36d841044505', 'updated_at': '2023-12-25T01:48:50.422Z', 'created_at': '2023-12-25T01:48:50.422Z', 'last_accessed_at': '2023-12-25T01:48:50.422Z', 'metadata': {'eTag': '\"b002999811e6c3ae875d831718c2b3e7\"', 'size': 413, 'mimetype': 'application/octet-stream', 'cacheControl': 'no-cache', 'lastModified': '2023-12-25T01:48:51.000Z', 'contentLength': 413, 'httpStatusCode': 200}}, {'name': '7ddfe2a2-18a8-dd54-276f-57cf066461b1.pkl', 'id': '9a2f08f1-3eab-4e75-b222-0272694cdd70', 'updated_at': '2023-12-24T19:46:46.343Z', 'created_at': '2023-12-24T19:46:46.343Z', 'last_accessed_at': '2023-12-24T19:46:46.343Z', 'metadata': {'eTag': '\"adbe679f309a343fb3a6727cf1d265ea\"', 'size': 696, 'mimetype': 'application/octet-stream', 'cacheControl': 'no-cache', 'lastModified': '2023-12-24T19:46:47.000Z', 'contentLength': 696, 'httpStatusCode': 200}}, {'name': '875bf7e3-7644-c2e4-995f-8d876bc53d31.pkl', 'id': '520030d9-df21-4912-a5b3-e0f76d9c7dec', 'updated_at': '2023-12-24T19:25:48.729Z', 'created_at': '2023-12-24T19:25:48.729Z', 'last_accessed_at': '2023-12-24T19:25:48.729Z', 'metadata': {'eTag': '\"699b8dec42f8abbe91810844e726771f\"', 'size': 1244, 'mimetype': 'application/octet-stream', 'cacheControl': 'no-cache', 'lastModified': '2023-12-24T19:25:49.000Z', 'contentLength': 1244, 'httpStatusCode': 200}}, {'name': '89451faa-4032-07a9-dc45-b3597bb479c5.pkl', 'id': '077466d9-42ad-4937-ba50-f7c642be2fe2', 'updated_at': '2023-12-24T04:04:58.996Z', 'created_at': '2023-12-24T04:04:58.996Z', 'last_accessed_at': '2023-12-24T04:04:58.996Z', 'metadata': {'eTag': '\"86c443fb703ee263527a0e177907d966\"', 'size': 1291, 'mimetype': 'application/octet-stream', 'cacheControl': 'no-cache', 'lastModified': '2023-12-24T04:04:59.000Z', 'contentLength': 1291, 'httpStatusCode': 200}}, {'name': '898d86a0-9341-ebed-e0d1-208d92cbdd68.pkl', 'id': '058ed411-e466-4f82-b840-4cf5afbc4438', 'updated_at': '2023-12-24T21:43:53.127Z', 'created_at': '2023-12-24T21:43:53.127Z', 'last_accessed_at': '2023-12-24T21:43:53.127Z', 'metadata': {'eTag': '\"4d73df9680908f61595d49dda2f59346\"', 'size': 1530, 'mimetype': 'application/octet-stream', 'cacheControl': 'no-cache', 'lastModified': '2023-12-24T21:43:54.000Z', 'contentLength': 1530, 'httpStatusCode': 200}}, {'name': '8aca70a6-cddd-cc1b-283e-85def3dadd1e.pkl', 'id': '56ba5b05-c697-4db3-b96d-3eb23598ecaa', 'updated_at': '2023-12-24T22:14:17.839Z', 'created_at': '2023-12-24T22:14:17.839Z', 'last_accessed_at': '2023-12-24T22:14:17.839Z', 'metadata': {'eTag': '\"68cf04ed5b9a1c4ec7d104ee58eae30c\"', 'size': 3035, 'mimetype': 'application/octet-stream', 'cacheControl': 'no-cache', 'lastModified': '2023-12-24T22:14:18.000Z', 'contentLength': 3035, 'httpStatusCode': 200}}, {'name': '8cb77f40-8760-a850-ef96-1f41e28c8338.pkl', 'id': '6d90d990-45de-47a7-a08f-a433c032213d', 'updated_at': '2023-12-24T20:56:02.330Z', 'created_at': '2023-12-24T20:56:02.330Z', 'last_accessed_at': '2023-12-24T20:56:02.330Z', 'metadata': {'eTag': '\"2a91dead41a1c2486f5b78af97168bd3\"', 'size': 1013, 'mimetype': 'application/octet-stream', 'cacheControl': 'no-cache', 'lastModified': '2023-12-24T20:56:03.000Z', 'contentLength': 1013, 'httpStatusCode': 200}}, {'name': '8d474a74-bdda-f1f3-8bd8-5f5fe97ea0a4.pkl', 'id': 'fe154f2f-02a4-4658-bab1-6379f66187c0', 'updated_at': '2023-12-24T19:47:03.269Z', 'created_at': '2023-12-24T19:47:03.227Z', 'last_accessed_at': '2023-12-24T19:47:03.227Z', 'metadata': {'eTag': '\"53f1cb61cc1bf1b95ccb5d9b066f2ea6\"', 'size': 699, 'mimetype': 'application/octet-stream', 'cacheControl': 'no-cache', 'lastModified': '2023-12-24T19:47:04.000Z', 'contentLength': 699, 'httpStatusCode': 200}}, {'name': '8fec89f8-7535-7062-c1c5-51f5adf0537a.pkl', 'id': '03326dff-f1d2-4b6a-a803-4a5b3deebbe8', 'updated_at': '2023-12-24T03:59:25.051Z', 'created_at': '2023-12-24T03:59:25.051Z', 'last_accessed_at': '2023-12-24T03:59:25.051Z', 'metadata': {'eTag': '\"c6696c3d84a7398534e1a34c1bafd139\"', 'size': 1133, 'mimetype': 'application/octet-stream', 'cacheControl': 'no-cache', 'lastModified': '2023-12-24T03:59:25.000Z', 'contentLength': 1133, 'httpStatusCode': 200}}, {'name': '9425386d-b06b-0f08-293b-cbc4757f7b72.pkl', 'id': '9ca3ef13-2aae-4e1c-98f0-de7cd8e24313', 'updated_at': '2023-12-24T22:09:49.545Z', 'created_at': '2023-12-24T22:09:49.545Z', 'last_accessed_at': '2023-12-24T22:09:49.545Z', 'metadata': {'eTag': '\"6f3f10fb5902820b9aea30ebbf9b51af\"', 'size': 1830, 'mimetype': 'application/octet-stream', 'cacheControl': 'no-cache', 'lastModified': '2023-12-24T22:09:50.000Z', 'contentLength': 1830, 'httpStatusCode': 200}}, {'name': '99eb7042-c489-6ba9-d177-c570803fc971.pkl', 'id': '7cd3355b-0606-4891-9c95-04aa4c847221', 'updated_at': '2023-12-24T21:40:38.454Z', 'created_at': '2023-12-24T21:40:38.454Z', 'last_accessed_at': '2023-12-24T21:40:38.454Z', 'metadata': {'eTag': '\"1d6fb6b4b46fbd686d31562f7c933368\"', 'size': 1692, 'mimetype': 'application/octet-stream', 'cacheControl': 'no-cache', 'lastModified': '2023-12-24T21:40:39.000Z', 'contentLength': 1692, 'httpStatusCode': 200}}, {'name': '9bef3e99-cd2c-1df0-3e0d-0bdb079f1a47.pkl', 'id': '6655c63a-7904-4303-9307-a22047e22184', 'updated_at': '2023-12-24T21:42:50.316Z', 'created_at': '2023-12-24T21:42:50.316Z', 'last_accessed_at': '2023-12-24T21:42:50.316Z', 'metadata': {'eTag': '\"b7161d0697783d2888dd62c3f73d7235\"', 'size': 1613, 'mimetype': 'application/octet-stream', 'cacheControl': 'no-cache', 'lastModified': '2023-12-24T21:42:51.000Z', 'contentLength': 1613, 'httpStatusCode': 200}}, {'name': 'None.pkl', 'id': 'd513b41a-4633-4f93-a0e5-cc5360441745', 'updated_at': '2023-12-23T23:14:18.587Z', 'created_at': '2023-12-23T23:14:18.587Z', 'last_accessed_at': '2023-12-23T23:14:18.587Z', 'metadata': {'eTag': '\"c657f0a43aff0abadd52afb57a2f8ba8\"', 'size': 1024, 'mimetype': 'application/octet-stream', 'cacheControl': 'no-cache', 'lastModified': '2023-12-23T23:14:19.000Z', 'contentLength': 1024, 'httpStatusCode': 200}}, {'name': 'a7d4a9cf-c031-f4a7-8cdf-079f30828183.pkl', 'id': '78b0971d-25e3-4700-8a0a-bf5e6f04fe96', 'updated_at': '2023-12-24T06:49:17.291Z', 'created_at': '2023-12-24T06:49:17.291Z', 'last_accessed_at': '2023-12-24T06:49:17.291Z', 'metadata': {'eTag': '\"53f1cb61cc1bf1b95ccb5d9b066f2ea6\"', 'size': 699, 'mimetype': 'application/octet-stream', 'cacheControl': 'no-cache', 'lastModified': '2023-12-24T06:49:18.000Z', 'contentLength': 699, 'httpStatusCode': 200}}, {'name': 'a8f2f193-b954-bbe2-4db9-6233cffa168a.pkl', 'id': '85a36100-b140-435b-b162-f8cfc4a6cac4', 'updated_at': '2023-12-24T03:21:44.444Z', 'created_at': '2023-12-24T03:21:44.444Z', 'last_accessed_at': '2023-12-24T03:21:44.444Z', 'metadata': {'eTag': '\"81d8e8a412484be8108a9c512c38e599\"', 'size': 1236, 'mimetype': 'application/octet-stream', 'cacheControl': 'no-cache', 'lastModified': '2023-12-24T03:21:45.000Z', 'contentLength': 1236, 'httpStatusCode': 200}}, {'name': 'a91e7ba3-4375-d491-c995-5a693050d4d7.pkl', 'id': 'd662c0e5-255d-4056-b732-c29da46e8022', 'updated_at': '2023-12-24T05:51:01.157Z', 'created_at': '2023-12-24T05:51:01.157Z', 'last_accessed_at': '2023-12-24T05:51:01.157Z', 'metadata': {'eTag': '\"3b1b8a4b055ca9503f4ef1462b383e94\"', 'size': 1130, 'mimetype': 'application/octet-stream', 'cacheControl': 'no-cache', 'lastModified': '2023-12-24T05:51:02.000Z', 'contentLength': 1130, 'httpStatusCode': 200}}, {'name': 'b07452c5-adc9-5142-20e0-8d57835e50ec.pkl', 'id': '802641a6-6db1-4147-b6a0-401ab6285fcb', 'updated_at': '2023-12-24T03:18:35.728Z', 'created_at': '2023-12-24T03:18:35.728Z', 'last_accessed_at': '2023-12-24T03:18:35.728Z', 'metadata': {'eTag': '\"83f1879e2039a64e25c79ca75da81f8e\"', 'size': 1684, 'mimetype': 'application/octet-stream', 'cacheControl': 'no-cache', 'lastModified': '2023-12-24T03:18:36.000Z', 'contentLength': 1684, 'httpStatusCode': 200}}, {'name': 'b683c89a-e1a0-3f6e-18fd-2995c4c56770.pkl', 'id': '947d7eea-4e65-440d-aa7c-70ca448e4ac5', 'updated_at': '2023-12-24T03:22:45.148Z', 'created_at': '2023-12-24T03:22:45.148Z', 'last_accessed_at': '2023-12-24T03:22:45.148Z', 'metadata': {'eTag': '\"5156dceff2b2f1790701b7b39263f2c3\"', 'size': 1365, 'mimetype': 'application/octet-stream', 'cacheControl': 'no-cache', 'lastModified': '2023-12-24T03:22:46.000Z', 'contentLength': 1365, 'httpStatusCode': 200}}, {'name': 'b9f92b3d-6629-6f90-56df-9a37b5f3dbba.pkl', 'id': '4bfd2456-054d-46c3-991e-9907396b5a52', 'updated_at': '2023-12-24T21:38:45.656Z', 'created_at': '2023-12-24T21:38:45.656Z', 'last_accessed_at': '2023-12-24T21:38:45.656Z', 'metadata': {'eTag': '\"965af75bdc2ee1fddb0655e283e78197\"', 'size': 1474, 'mimetype': 'application/octet-stream', 'cacheControl': 'no-cache', 'lastModified': '2023-12-24T21:38:46.000Z', 'contentLength': 1474, 'httpStatusCode': 200}}, {'name': 'bcb595c2-6b9b-cd32-77cd-d1d3a5dccb37.pkl', 'id': 'bdf744d4-c0d7-4140-9b09-7f522b1d2c0a', 'updated_at': '2023-12-24T22:06:11.267Z', 'created_at': '2023-12-24T22:06:11.267Z', 'last_accessed_at': '2023-12-24T22:06:11.267Z', 'metadata': {'eTag': '\"5796caa068842dadbed3de4d92cf7270\"', 'size': 1578, 'mimetype': 'application/octet-stream', 'cacheControl': 'no-cache', 'lastModified': '2023-12-24T22:06:12.000Z', 'contentLength': 1578, 'httpStatusCode': 200}}, {'name': 'be5bede6-dc84-aae0-7f2a-15615ed15bad.pkl', 'id': '0463af34-ec8f-475c-a8d4-14ebf6052d72', 'updated_at': '2023-12-25T03:51:03.414Z', 'created_at': '2023-12-25T03:51:03.414Z', 'last_accessed_at': '2023-12-25T03:51:03.414Z', 'metadata': {'eTag': '\"b1afae8f023a7316a40ce098e2739421\"', 'size': 1584, 'mimetype': 'application/octet-stream', 'cacheControl': 'no-cache', 'lastModified': '2023-12-25T03:51:04.000Z', 'contentLength': 1584, 'httpStatusCode': 200}}, {'name': 'cbc406aa-bcb0-628c-c78f-75a964b72907.pkl', 'id': 'a32f34c7-53d2-4c50-9316-1c4e91c86eff', 'updated_at': '2023-12-25T01:50:30.089Z', 'created_at': '2023-12-25T01:50:30.089Z', 'last_accessed_at': '2023-12-25T01:50:30.089Z', 'metadata': {'eTag': '\"bcd0667f4a6cc081719332b68d5e4520\"', 'size': 3686, 'mimetype': 'application/octet-stream', 'cacheControl': 'no-cache', 'lastModified': '2023-12-25T01:50:31.000Z', 'contentLength': 3686, 'httpStatusCode': 200}}, {'name': 'd01a5ce5-8d0c-8bfd-c67e-941e2bf29e92.pkl', 'id': 'ec1336ba-91f6-4c4d-b638-4970e59e3415', 'updated_at': '2023-12-24T21:34:12.704Z', 'created_at': '2023-12-24T21:34:12.704Z', 'last_accessed_at': '2023-12-24T21:34:12.704Z', 'metadata': {'eTag': '\"73799b5607ad9545000d65c3c4be03e1\"', 'size': 1454, 'mimetype': 'application/octet-stream', 'cacheControl': 'no-cache', 'lastModified': '2023-12-24T21:34:13.000Z', 'contentLength': 1454, 'httpStatusCode': 200}}, {'name': 'd43c4bbe-11e9-b1cf-6677-03f3ed689d21.pkl', 'id': '51d2f923-34be-4b79-ad9b-d77b18c0d5e2', 'updated_at': '2023-12-24T05:55:50.104Z', 'created_at': '2023-12-24T05:55:50.104Z', 'last_accessed_at': '2023-12-24T05:55:50.104Z', 'metadata': {'eTag': '\"ba8c74a3ad11219476aa3145eb2ec3c7\"', 'size': 2087, 'mimetype': 'application/octet-stream', 'cacheControl': 'no-cache', 'lastModified': '2023-12-24T05:55:51.000Z', 'contentLength': 2087, 'httpStatusCode': 200}}, {'name': 'd6799f16-f816-385a-1ca0-fb45b24f2413.pkl', 'id': 'dd8b7775-f8ec-4959-813d-5a0a461851ff', 'updated_at': '2023-12-24T23:54:36.382Z', 'created_at': '2023-12-24T23:54:36.382Z', 'last_accessed_at': '2023-12-24T23:54:36.382Z', 'metadata': {'eTag': '\"db8e6495bcbaad0d5fe1949de008913c\"', 'size': 1551, 'mimetype': 'application/octet-stream', 'cacheControl': 'no-cache', 'lastModified': '2023-12-24T23:54:37.000Z', 'contentLength': 1551, 'httpStatusCode': 200}}, {'name': 'd92b50d4-9938-6985-aec2-86384d333b35.pkl', 'id': '963cd8b9-58f5-46b0-8116-1bad66d60467', 'updated_at': '2023-12-24T22:07:27.069Z', 'created_at': '2023-12-24T22:07:27.069Z', 'last_accessed_at': '2023-12-24T22:07:27.069Z', 'metadata': {'eTag': '\"51643fc2e17790e869261e68fd7e36e9\"', 'size': 3302, 'mimetype': 'application/octet-stream', 'cacheControl': 'no-cache', 'lastModified': '2023-12-24T22:07:28.000Z', 'contentLength': 3302, 'httpStatusCode': 200}}, {'name': 'e06fcea6-aed7-8199-5eac-199dc10c9df4.pkl', 'id': 'b3323404-b092-4e68-baa0-653982497c19', 'updated_at': '2023-12-24T21:42:02.643Z', 'created_at': '2023-12-24T21:42:02.643Z', 'last_accessed_at': '2023-12-24T21:42:02.643Z', 'metadata': {'eTag': '\"90640be186a1df6cad8f4d2d791cacff\"', 'size': 1549, 'mimetype': 'application/octet-stream', 'cacheControl': 'no-cache', 'lastModified': '2023-12-24T21:42:03.000Z', 'contentLength': 1549, 'httpStatusCode': 200}}, {'name': 'e34d9136-cb61-0335-2512-833e28621b39.pkl', 'id': '364b5dd1-89a6-4de8-9ea6-457f2c788459', 'updated_at': '2023-12-24T22:15:16.188Z', 'created_at': '2023-12-24T22:15:16.188Z', 'last_accessed_at': '2023-12-24T22:15:16.188Z', 'metadata': {'eTag': '\"885ba70a3954223108bf65364a9ff19b\"', 'size': 2493, 'mimetype': 'application/octet-stream', 'cacheControl': 'no-cache', 'lastModified': '2023-12-24T22:15:17.000Z', 'contentLength': 2493, 'httpStatusCode': 200}}, {'name': 'e837f5cf-c186-8ec2-3f5c-8b65d6017531.pkl', 'id': '0b848d96-8001-4104-b4ee-8ed080232451', 'updated_at': '2023-12-24T02:02:30.190Z', 'created_at': '2023-12-24T02:02:30.190Z', 'last_accessed_at': '2023-12-24T02:02:30.190Z', 'metadata': {'eTag': '\"bfcb156791d4ae1b922f9bd388196e78\"', 'size': 699, 'mimetype': 'application/octet-stream', 'cacheControl': 'no-cache', 'lastModified': '2023-12-24T02:02:31.000Z', 'contentLength': 699, 'httpStatusCode': 200}}, {'name': 'ea5f5197-9aa2-e4dd-f4e8-f6f7233078fd.pkl', 'id': '7431efba-b7c4-4967-bff2-93df0a8c2843', 'updated_at': '2023-12-25T00:00:40.414Z', 'created_at': '2023-12-25T00:00:40.414Z', 'last_accessed_at': '2023-12-25T00:00:40.414Z', 'metadata': {'eTag': '\"a1b1d4b5a95e1689c3313d84dd084047\"', 'size': 1682, 'mimetype': 'application/octet-stream', 'cacheControl': 'no-cache', 'lastModified': '2023-12-25T00:00:41.000Z', 'contentLength': 1682, 'httpStatusCode': 200}}, {'name': 'f8c3940b-21d1-a7f2-bb35-3b9a63347269.pkl', 'id': '120655e5-5aac-42a9-9e27-bb873c69b793', 'updated_at': '2023-12-25T01:35:38.968Z', 'created_at': '2023-12-25T01:35:38.968Z', 'last_accessed_at': '2023-12-25T01:35:38.968Z', 'metadata': {'eTag': '\"b7a541d891a76297b11ada6d73fa519b\"', 'size': 1825, 'mimetype': 'application/octet-stream', 'cacheControl': 'no-cache', 'lastModified': '2023-12-25T01:35:39.000Z', 'contentLength': 1825, 'httpStatusCode': 200}}, {'name': 'fa86d965-f666-dd5a-9632-58fa26617d45.pkl', 'id': '25959421-82bd-4fbf-bec1-2bd37185ad22', 'updated_at': '2023-12-24T05:56:19.282Z', 'created_at': '2023-12-24T05:56:19.282Z', 'last_accessed_at': '2023-12-24T05:56:19.282Z', 'metadata': {'eTag': '\"3ec41a676d32ebd1a27f1b37619d47a0\"', 'size': 1287, 'mimetype': 'application/octet-stream', 'cacheControl': 'no-cache', 'lastModified': '2023-12-24T05:56:20.000Z', 'contentLength': 1287, 'httpStatusCode': 200}}, {'name': 'fc250c14-a46f-615b-45fa-9e182388703f.pkl', 'id': '1a783768-0455-4c32-8b3e-3f551d36b768', 'updated_at': '2023-12-24T05:53:32.758Z', 'created_at': '2023-12-24T05:53:32.758Z', 'last_accessed_at': '2023-12-24T05:53:32.758Z', 'metadata': {'eTag': '\"60c02230119a8627222c02226fafa820\"', 'size': 1230, 'mimetype': 'application/octet-stream', 'cacheControl': 'no-cache', 'lastModified': '2023-12-24T05:53:33.000Z', 'contentLength': 1230, 'httpStatusCode': 200}}]\n",
      "Response length:  53\n",
      "Response type:  <class 'list'>\n"
     ]
    }
   ],
   "source": [
    "bucket_name = \"chats\"\n",
    "\n",
    "response = supabase_client.storage.from_(bucket_name).list(\"763dacfd-0103-4822-ac24-3671aef88133/\")\n",
    "print(\"Response: \", response)\n",
    "print(\"Response length: \", len(response))\n",
    "print(\"Response type: \", type(response))"
   ]
  },
  {
   "cell_type": "code",
   "execution_count": 16,
   "metadata": {},
   "outputs": [
    {
     "name": "stderr",
     "output_type": "stream",
     "text": [
      "2023-12-24 16:48:08,271:INFO - HTTP Request: GET https://mxquzcwaqnrdcnlobiao.supabase.co/rest/v1/chats?select=%2A \"HTTP/1.1 200 OK\"\n"
     ]
    },
    {
     "data": {
      "text/plain": [
       "[]"
      ]
     },
     "execution_count": 16,
     "metadata": {},
     "output_type": "execute_result"
    }
   ],
   "source": [
    "response = supabase_client.table('chats').select(\"*\").execute()\n",
    "response.data\n",
    "any(data['file_id'] == session_id for data in response.data)"
   ]
  },
  {
   "cell_type": "code",
   "execution_count": 30,
   "metadata": {},
   "outputs": [
    {
     "name": "stderr",
     "output_type": "stream",
     "text": [
      "2023-12-24 17:30:49,417:INFO - HTTP Request: GET https://mxquzcwaqnrdcnlobiao.supabase.co/rest/v1/chats?select=id%28%2A%29&id=eq.hello \"HTTP/1.1 400 Bad Request\"\n"
     ]
    },
    {
     "ename": "APIError",
     "evalue": "{'code': 'PGRST200', 'details': \"Searched for a foreign key relationship between 'chats' and 'id' in the schema 'public', but no matches were found.\", 'hint': None, 'message': \"Could not find a relationship between 'chats' and 'id' in the schema cache\"}",
     "output_type": "error",
     "traceback": [
      "\u001b[0;31m---------------------------------------------------------------------------\u001b[0m",
      "\u001b[0;31mAPIError\u001b[0m                                  Traceback (most recent call last)",
      "\u001b[1;32m/Users/matthewcalapai/Documents/GitHub/atr-portal-testing/Doccy/server/supabase.ipynb Cell 5\u001b[0m line \u001b[0;36m1\n\u001b[0;32m----> <a href='vscode-notebook-cell:/Users/matthewcalapai/Documents/GitHub/atr-portal-testing/Doccy/server/supabase.ipynb#W5sZmlsZQ%3D%3D?line=0'>1</a>\u001b[0m all_chats \u001b[39m=\u001b[39m supabase_client\u001b[39m.\u001b[39;49mtable(\u001b[39m'\u001b[39;49m\u001b[39mchats\u001b[39;49m\u001b[39m'\u001b[39;49m)\u001b[39m.\u001b[39;49mselect(\u001b[39m\"\u001b[39;49m\u001b[39mid(*)\u001b[39;49m\u001b[39m\"\u001b[39;49m)\u001b[39m.\u001b[39;49meq(\u001b[39m\"\u001b[39;49m\u001b[39mid\u001b[39;49m\u001b[39m\"\u001b[39;49m, \u001b[39m\"\u001b[39;49m\u001b[39mhello\u001b[39;49m\u001b[39m\"\u001b[39;49m)\u001b[39m.\u001b[39;49mexecute()\n\u001b[1;32m      <a href='vscode-notebook-cell:/Users/matthewcalapai/Documents/GitHub/atr-portal-testing/Doccy/server/supabase.ipynb#W5sZmlsZQ%3D%3D?line=2'>3</a>\u001b[0m all_chats\u001b[39m.\u001b[39mdata\n",
      "File \u001b[0;32m~/Documents/GitHub/atr-portal-testing/Doccy/server/venv/lib/python3.11/site-packages/postgrest/_sync/request_builder.py:70\u001b[0m, in \u001b[0;36mSyncQueryRequestBuilder.execute\u001b[0;34m(self)\u001b[0m\n\u001b[1;32m     68\u001b[0m         \u001b[39mreturn\u001b[39;00m APIResponse[_ReturnT]\u001b[39m.\u001b[39mfrom_http_request_response(r)\n\u001b[1;32m     69\u001b[0m     \u001b[39melse\u001b[39;00m:\n\u001b[0;32m---> 70\u001b[0m         \u001b[39mraise\u001b[39;00m APIError(r\u001b[39m.\u001b[39mjson())\n\u001b[1;32m     71\u001b[0m \u001b[39mexcept\u001b[39;00m ValidationError \u001b[39mas\u001b[39;00m e:\n\u001b[1;32m     72\u001b[0m     \u001b[39mraise\u001b[39;00m APIError(r\u001b[39m.\u001b[39mjson()) \u001b[39mfrom\u001b[39;00m \u001b[39me\u001b[39;00m\n",
      "\u001b[0;31mAPIError\u001b[0m: {'code': 'PGRST200', 'details': \"Searched for a foreign key relationship between 'chats' and 'id' in the schema 'public', but no matches were found.\", 'hint': None, 'message': \"Could not find a relationship between 'chats' and 'id' in the schema cache\"}"
     ]
    }
   ],
   "source": [
    "all_chats = supabase_client.table('chats').select(\"id(*)\").eq(\"userid\").execute()\n",
    "\n",
    "all_chats.data"
   ]
  },
  {
   "cell_type": "code",
   "execution_count": null,
   "metadata": {},
   "outputs": [],
   "source": []
  },
  {
   "cell_type": "code",
   "execution_count": 10,
   "metadata": {},
   "outputs": [
    {
     "name": "stderr",
     "output_type": "stream",
     "text": [
      "2023-12-25 19:39:41,881:INFO - HTTP Request: GET https://mxquzcwaqnrdcnlobiao.supabase.co/storage/v1/object/chats/763dacfd-0103-4822-ac24-3671aef88133/1caa11a1-6a93-006d-3f2a-843fd9fe15ae.pkl \"HTTP/1.1 200 OK\"\n"
     ]
    }
   ],
   "source": [
    "with open(\"data.pkl\", 'wb+') as f:\n",
    "        res = supabase_client.storage.from_(bucket_name).download(\"763dacfd-0103-4822-ac24-3671aef88133/1caa11a1-6a93-006d-3f2a-843fd9fe15ae.pkl\")\n",
    "        f.write(res)"
   ]
  },
  {
   "cell_type": "code",
   "execution_count": null,
   "metadata": {},
   "outputs": [],
   "source": []
  }
 ],
 "metadata": {
  "kernelspec": {
   "display_name": "base",
   "language": "python",
   "name": "python3"
  },
  "language_info": {
   "codemirror_mode": {
    "name": "ipython",
    "version": 3
   },
   "file_extension": ".py",
   "mimetype": "text/x-python",
   "name": "python",
   "nbconvert_exporter": "python",
   "pygments_lexer": "ipython3",
   "version": "3.11.5"
  }
 },
 "nbformat": 4,
 "nbformat_minor": 2
}
